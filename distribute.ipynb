{
 "cells": [
  {
   "cell_type": "code",
   "execution_count": null,
   "id": "fe322598",
   "metadata": {},
   "outputs": [],
   "source": [
    "import os, cv2\n",
    "from tqdm import tqdm\n",
    "import numpy as np\n",
    "from sklearn.cluster import KMeans\n",
    "import csv\n",
    "from splitlist import rgbw_map, rbgcluster\n",
    "from utils.config import load_setting\n",
    "import matplotlib.pyplot as plt\n",
    "from PIL import Image\n",
    "import random"
   ]
  },
  {
   "cell_type": "code",
   "execution_count": null,
   "id": "5bf27052",
   "metadata": {},
   "outputs": [],
   "source": [
    "root = load_setting()['root']\n",
    "img_folder = os.path.join(root, 'SEG_Train_Datasets', 'Train_Images')\n",
    "respath = './cfg/distrubution.csv'\n",
    "img_id_list, rbg_list = rgbw_map(img_folder)"
   ]
  },
  {
   "cell_type": "code",
   "execution_count": null,
   "id": "ba418619",
   "metadata": {},
   "outputs": [],
   "source": [
    "rgbdstb = rbgcluster(8, img_id_list, rbg_list)\n",
    "rgbdstb = dict(sorted(rgbdstb.items(), key=lambda item: item[1]))\n",
    "\n",
    "with open(respath, 'w') as f:  \n",
    "    writer = csv.writer(f)\n",
    "    writer.writerow(['id', 'cluster'])\n",
    "    for k, v in rgbdstb.items():\n",
    "       writer.writerow([k, v])"
   ]
  },
  {
   "cell_type": "code",
   "execution_count": null,
   "id": "b5d2cca8",
   "metadata": {},
   "outputs": [],
   "source": [
    "respath = './cfg/distrubution.csv'\n",
    "group = {}\n",
    "with open(respath, 'r') as f:\n",
    "    reader = csv.reader(f)\n",
    "    next(reader, None)\n",
    "    for row in reader:\n",
    "        idx = int(row[1])\n",
    "        if idx not in group:\n",
    "            group[idx] = [row[0]]\n",
    "        else:\n",
    "            group[idx].append(row[0])"
   ]
  },
  {
   "cell_type": "code",
   "execution_count": null,
   "id": "04293514",
   "metadata": {},
   "outputs": [],
   "source": [
    "samplesize = 10\n",
    "f, axarr = plt.subplots(samplesize,len(group),figsize=(200,400))\n",
    "\n",
    "config = load_setting()\n",
    "path = os.path.join(config['dataset_root'], 'Train_Images')\n",
    "\n",
    "for idx in range(len(group)):\n",
    "    random_items = random.sample(group[idx], samplesize)\n",
    "    for i, itemid in enumerate(random_items):\n",
    "        axarr[i, idx].imshow(Image.open(os.path.join(path, f'{itemid}.jpg')))\n",
    "        axarr[i, idx].axis('off')\n",
    "\n",
    "plt.savefig('distribute.png')"
   ]
  }
 ],
 "metadata": {
  "kernelspec": {
   "display_name": "Python 3 (ipykernel)",
   "language": "python",
   "name": "python3"
  },
  "language_info": {
   "codemirror_mode": {
    "name": "ipython",
    "version": 3
   },
   "file_extension": ".py",
   "mimetype": "text/x-python",
   "name": "python",
   "nbconvert_exporter": "python",
   "pygments_lexer": "ipython3",
   "version": "3.8.12"
  }
 },
 "nbformat": 4,
 "nbformat_minor": 5
}
