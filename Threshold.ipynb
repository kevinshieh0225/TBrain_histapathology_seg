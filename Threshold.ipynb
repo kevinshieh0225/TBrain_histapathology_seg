{
 "cells": [
  {
   "cell_type": "code",
   "execution_count": null,
   "id": "5e5cd231",
   "metadata": {},
   "outputs": [],
   "source": [
    "import os, torch, cv2\n",
    "import numpy as np\n",
    "from dataloader import get_preprocessing\n",
    "\n",
    "from config import load_wdb_config, load_setting\n",
    "from network import Litsmp\n",
    "from tqdm import tqdm"
   ]
  },
  {
   "cell_type": "code",
   "execution_count": null,
   "id": "5a836251",
   "metadata": {},
   "outputs": [],
   "source": [
    "pretrain_path = './result/U+_nc_moreaug_FTL/'\n",
    "cfgpath = os.path.join(pretrain_path, 'expconfig.yaml')\n",
    "weight = os.path.join(pretrain_path, 'epoch=75-step=5396.ckpt')\n",
    "ds_dict = load_setting()\n",
    "\n",
    "Public_Image = ds_dict['public_root']\n",
    "opts_dict = load_wdb_config(cfgpath)\n",
    "Public_save_path = os.path.join(ds_dict['inference_root'], opts_dict['expname'])\n",
    "os.makedirs(Public_save_path, exist_ok=True)\n",
    "\n",
    "preprocess = get_preprocessing()\n",
    "\n",
    "model = Litsmp.load_from_checkpoint(weight, opts_dict=opts_dict)\n",
    "model.eval()\n",
    "height = opts_dict['aug']['resize_height']\n",
    "width = height * 2\n",
    "imagePaths = [image_id for image_id in os.listdir(Public_Image)]\n",
    "for image_id in tqdm(imagePaths):\n",
    "    image = cv2.imread(os.path.join(Public_Image, image_id))\n",
    "    image = cv2.cvtColor(image, cv2.COLOR_BGR2RGB)\n",
    "    origin_h, origin_w, _ = image.shape\n",
    "    if image.shape != (height, width, 3):\n",
    "        image = cv2.resize(image, (width, height), interpolation=cv2.INTER_LANCZOS4)\n",
    "    image = preprocess(image=image)['image']\n",
    "    image = image.unsqueeze(0)\n",
    "    with torch.no_grad():\n",
    "        mask = torch.sigmoid(model(image)).squeeze().cpu().numpy()\n",
    "    mask = cv2.resize(mask, (origin_w, origin_h), interpolation=cv2.INTER_LANCZOS4)\n",
    "    print(np.sum(mask > 0.75), np.sum(mask > 0.8), np.sum(mask == 1))"
   ]
  },
  {
   "cell_type": "code",
   "execution_count": null,
   "id": "8063b600",
   "metadata": {},
   "outputs": [],
   "source": []
  }
 ],
 "metadata": {
  "kernelspec": {
   "display_name": "Python 3 (ipykernel)",
   "language": "python",
   "name": "python3"
  },
  "language_info": {
   "codemirror_mode": {
    "name": "ipython",
    "version": 3
   },
   "file_extension": ".py",
   "mimetype": "text/x-python",
   "name": "python",
   "nbconvert_exporter": "python",
   "pygments_lexer": "ipython3",
   "version": "3.8.12"
  }
 },
 "nbformat": 4,
 "nbformat_minor": 5
}
