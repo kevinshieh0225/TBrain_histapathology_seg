{
 "cells": [
  {
   "cell_type": "code",
   "execution_count": 1,
   "id": "5e5cd231",
   "metadata": {},
   "outputs": [
    {
     "name": "stderr",
     "output_type": "stream",
     "text": [
      "/home/u7085556/.local/lib/python3.8/site-packages/torchvision/io/image.py:13: UserWarning: Failed to load image Python extension: /home/u7085556/.local/lib/python3.8/site-packages/torchvision/image.so: undefined symbol: _ZN3c105ErrorC2ENS_14SourceLocationESs\n",
      "  warn(f\"Failed to load image Python extension: {e}\")\n"
     ]
    }
   ],
   "source": [
    "import os, torch, cv2\n",
    "import numpy as np\n",
    "from tqdm import tqdm\n",
    "from scipy import ndimage\n",
    "\n",
    "from utils.dataloader import get_preprocessing\n",
    "from utils.config import load_wdb_config, load_setting\n",
    "from utils.network import Litsmp\n",
    "\n",
    "THRESHOLD = 0.75"
   ]
  },
  {
   "cell_type": "code",
   "execution_count": null,
   "id": "b6df4f74",
   "metadata": {},
   "outputs": [],
   "source": [
    "def connectTH(mask, map, mode=1, threshold=150):\n",
    "    # identify pixel connected size\n",
    "    pgroup, Nlabels = ndimage.measurements.label(map)\n",
    "    label_size = [(pgroup == label).sum() for label in range(Nlabels + 1)]\n",
    "    # remove those above a threshold\n",
    "    mode ^= 1\n",
    "    for label,size in enumerate(label_size):\n",
    "        if size < threshold:\n",
    "            mask[pgroup == label] = mode"
   ]
  },
  {
   "cell_type": "code",
   "execution_count": 3,
   "id": "3f8cec6f",
   "metadata": {},
   "outputs": [],
   "source": [
    "pretrain_path = './result/U+_nc_moreaug_FTL/'\n",
    "cfgpath = os.path.join(pretrain_path, 'expconfig.yaml')\n",
    "weight = os.path.join(pretrain_path, 'epoch=75-step=5396.ckpt')\n",
    "ds_dict = load_setting()"
   ]
  },
  {
   "cell_type": "code",
   "execution_count": null,
   "id": "5a836251",
   "metadata": {
    "scrolled": true
   },
   "outputs": [],
   "source": [
    "Public_Image = ds_dict['public_root']\n",
    "opts_dict = load_wdb_config(cfgpath)\n",
    "Public_save_path = os.path.join(ds_dict['inference_root'], opts_dict['expname'])\n",
    "os.makedirs(Public_save_path, exist_ok=True)\n",
    "\n",
    "preprocess = get_preprocessing()\n",
    "\n",
    "model = Litsmp.load_from_checkpoint(weight, opts_dict=opts_dict)\n",
    "model.eval()\n",
    "height = opts_dict['aug']['resize_height']\n",
    "width = height * 2\n",
    "imagePaths = [image_id for image_id in os.listdir(Public_Image)]\n",
    "for image_id in tqdm(imagePaths):\n",
    "    image = cv2.imread(os.path.join(Public_Image, image_id))\n",
    "    image = cv2.cvtColor(image, cv2.COLOR_BGR2RGB)\n",
    "    origin_h, origin_w, _ = image.shape\n",
    "    if image.shape != (height, width, 3):\n",
    "        image = cv2.resize(image, (width, height), interpolation=cv2.INTER_LANCZOS4)\n",
    "    image = preprocess(image=image)['image']\n",
    "    image = image.unsqueeze(0)\n",
    "    with torch.no_grad():\n",
    "        mask = torch.sigmoid(model(image)).squeeze().cpu().numpy()\n",
    "    mask = cv2.resize(mask, (origin_w, origin_h), interpolation=cv2.INTER_LANCZOS4)\n",
    "    mask = np.where(mask > THRESHOLD, 1, 0)\n",
    "    origin = np.sum(mask == 1)\n",
    "\n",
    "    connectTH(mask, mask, mode=1, threshold=500)\n",
    "    connectTH(mask, mask^1, mode=0, threshold=500)\n",
    "    \n",
    "    process = np.sum(mask == 1)\n",
    "    print(origin, process)"
   ]
  },
  {
   "cell_type": "code",
   "execution_count": 19,
   "id": "b4c423d2",
   "metadata": {},
   "outputs": [
    {
     "name": "stdout",
     "output_type": "stream",
     "text": [
      "00000644.png 1994\n",
      "00000218.png 1049\n",
      "00000220.png 649\n",
      "00000186.png 444\n",
      "00000302.png 425\n",
      "00000306.png 329\n",
      "00000536.png 98\n"
     ]
    }
   ],
   "source": [
    "# find the smallest connectTH in trainset\n",
    "imagePaths = ds_dict['dataset_root']\n",
    "maskPaths = os.path.join(imagePaths, 'Train_Masks')\n",
    "mincp = 2000\n",
    "\n",
    "for image_id in os.listdir(maskPaths):\n",
    "    mask = cv2.imread(os.path.join(maskPaths, image_id), 0)\n",
    "    pgroup, Nlabels = ndimage.measurements.label(mask)\n",
    "    for label in range(Nlabels + 1):\n",
    "        label_size = (pgroup == label).sum()\n",
    "        if label_size < mincp:\n",
    "            mincp = label_size\n",
    "            print(image_id, mincp)"
   ]
  }
 ],
 "metadata": {
  "kernelspec": {
   "display_name": "Python 3 (ipykernel)",
   "language": "python",
   "name": "python3"
  },
  "language_info": {
   "codemirror_mode": {
    "name": "ipython",
    "version": 3
   },
   "file_extension": ".py",
   "mimetype": "text/x-python",
   "name": "python",
   "nbconvert_exporter": "python",
   "pygments_lexer": "ipython3",
   "version": "3.8.12"
  }
 },
 "nbformat": 4,
 "nbformat_minor": 5
}
