{
 "cells": [
  {
   "cell_type": "code",
   "execution_count": null,
   "id": "5e5cd231",
   "metadata": {},
   "outputs": [],
   "source": [
    "import os, torch, cv2\n",
    "import numpy as np\n",
    "from tqdm import tqdm\n",
    "from scipy import ndimage\n",
    "\n",
    "from utils.dataloader import get_preprocessing\n",
    "from utils.config import load_wdb_config, load_setting\n",
    "from utils.network import Litsmp\n",
    "from utils.plot import visualize\n",
    "from inference import modelsetting"
   ]
  },
  {
   "cell_type": "code",
   "execution_count": null,
   "id": "60387f62",
   "metadata": {},
   "outputs": [],
   "source": [
    "def connectTH(mask, map, mode=1, threshold=150):\n",
    "    # identify pixel connected size\n",
    "    pgroup, Nlabels = ndimage.measurements.label(map)\n",
    "    label_size = [(pgroup == label).sum() for label in range(Nlabels + 1)]\n",
    "    # remove those above a threshold\n",
    "    mode ^= 1\n",
    "    for label,size in enumerate(label_size):\n",
    "        if size < threshold:\n",
    "            mask[pgroup == label] = mode"
   ]
  },
  {
   "cell_type": "code",
   "execution_count": null,
   "id": "b38872a9",
   "metadata": {},
   "outputs": [],
   "source": [
    "pretrain_path = './result/U+_nc_moreaug_FTL/'\n",
    "opts_dict, model = modelsetting(pretrain_path)\n",
    "ds_dict = load_setting()\n",
    "Public_Image = ds_dict['public_root']\n",
    "preprocess = get_preprocessing()\n",
    "THRESHOLD = 0.75"
   ]
  },
  {
   "cell_type": "code",
   "execution_count": null,
   "id": "5a836251",
   "metadata": {
    "scrolled": true
   },
   "outputs": [],
   "source": [
    "model.eval()\n",
    "height = opts_dict['aug']['resize_height']\n",
    "width = height * 2\n",
    "imagePaths = [image_id for image_id in os.listdir(Public_Image)]\n",
    "for image_id in tqdm(imagePaths):\n",
    "    image = cv2.imread(os.path.join(Public_Image, image_id))\n",
    "    image = cv2.cvtColor(image, cv2.COLOR_BGR2RGB)\n",
    "    origin_h, origin_w, _ = image.shape\n",
    "    if image.shape != (height, width, 3):\n",
    "        image = cv2.resize(image, (width, height), interpolation=cv2.INTER_LANCZOS4)\n",
    "    image = preprocess(image=image)['image']\n",
    "    image = image.unsqueeze(0)\n",
    "    with torch.no_grad():\n",
    "        mask = torch.sigmoid(model(image)).squeeze().cpu().numpy()\n",
    "    mask = cv2.resize(mask, (origin_w, origin_h), interpolation=cv2.INTER_LANCZOS4)\n",
    "    mask = np.where(mask > THRESHOLD, 1, 0)\n",
    "    origin = np.sum(mask == 1)\n",
    "\n",
    "    connectTH(mask, mask, mode=1, threshold=500)\n",
    "    connectTH(mask, mask^1, mode=0, threshold=500)\n",
    "    \n",
    "    process = np.sum(mask == 1)\n",
    "    print(origin, process)"
   ]
  },
  {
   "cell_type": "code",
   "execution_count": null,
   "id": "a4c30a99",
   "metadata": {},
   "outputs": [],
   "source": [
    "# find the smallest connectTH in trainset\n",
    "imagePaths = ds_dict['dataset_root']\n",
    "maskPaths = os.path.join(imagePaths, 'Train_Masks')\n",
    "mincp = 2000\n",
    "\n",
    "for image_id in os.listdir(maskPaths):\n",
    "    mask = cv2.imread(os.path.join(maskPaths, image_id), 0)\n",
    "    pgroup, Nlabels = ndimage.measurements.label(mask)\n",
    "    for label in range(Nlabels + 1):\n",
    "        label_size = (pgroup == label).sum()\n",
    "        if label_size < mincp:\n",
    "            mincp = label_size\n",
    "            print(image_id, mincp)"
   ]
  },
  {
   "cell_type": "code",
   "execution_count": null,
   "id": "7eccd6f2",
   "metadata": {},
   "outputs": [],
   "source": [
    "THRESHOLD = 0.75\n",
    "\n",
    "model.eval()\n",
    "height = opts_dict['aug']['resize_height']\n",
    "width = height * 2\n",
    "\n",
    "image = cv2.imread(os.path.join(Public_Image, 'Public_00000064.jpg'))\n",
    "image = cv2.cvtColor(image, cv2.COLOR_BGR2RGB)\n",
    "origin_h, origin_w, _ = image.shape\n",
    "if image.shape != (height, width, 3):\n",
    "    image = cv2.resize(image, (width, height), interpolation=cv2.INTER_LANCZOS4)\n",
    "image = preprocess(image=image)['image']\n",
    "image = image.unsqueeze(0)\n",
    "with torch.no_grad():\n",
    "    mask = torch.sigmoid(model(image)).squeeze().cpu().numpy()\n",
    "\n",
    "mask = cv2.resize(mask, (origin_w, origin_h), interpolation=cv2.INTER_LANCZOS4)\n",
    "mask1 = np.where(mask > 0.75, 1, 0)\n",
    "mask2 = np.where(mask > 0.85, 1, 0)\n",
    "# mask3 = np.where(mask > 0.95, 1, 0)\n",
    "# connectTH(mask, mask, mode=1, threshold=500)\n",
    "# connectTH(mask, mask^1, mode=0, threshold=500)\n",
    "\n",
    "visualize(\n",
    "    mask1=mask1.squeeze(),\n",
    "    mask2=mask2.squeeze(),\n",
    "#     mask3=mask3.squeeze(),\n",
    ")"
   ]
  },
  {
   "cell_type": "code",
   "execution_count": null,
   "id": "5ed10730",
   "metadata": {},
   "outputs": [],
   "source": []
  }
 ],
 "metadata": {
  "kernelspec": {
   "display_name": "Python 3 (ipykernel)",
   "language": "python",
   "name": "python3"
  },
  "language_info": {
   "codemirror_mode": {
    "name": "ipython",
    "version": 3
   },
   "file_extension": ".py",
   "mimetype": "text/x-python",
   "name": "python",
   "nbconvert_exporter": "python",
   "pygments_lexer": "ipython3",
   "version": "3.8.12"
  }
 },
 "nbformat": 4,
 "nbformat_minor": 5
}
