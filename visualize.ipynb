{
 "cells": [
  {
   "cell_type": "code",
   "execution_count": null,
   "metadata": {},
   "outputs": [],
   "source": [
    "import os, wandb\n",
    "from utils.dataloader import splitdataset\n",
    "from utils.config import load_setting, unflatten_json\n",
    "from utils.plot import visualize\n",
    "\n",
    "wandb.init(config='cfg/wandbcfg.yaml', mode=\"disabled\")\n",
    "opts_dict = wandb.config.as_dict()\n",
    "unflatten_json(opts_dict)\n",
    "ds_cfg = load_setting()\n",
    "imagePaths = os.path.join(ds_cfg['dataset_root'], 'Train_Images')\n",
    "maskPaths = os.path.join(ds_cfg['dataset_root'], 'Train_Masks')\n",
    "ds_cfg = load_setting()\n",
    "trainset, validset = splitdataset(imagePaths, maskPaths, opts_dict, ds_cfg)"
   ]
  },
  {
   "cell_type": "code",
   "execution_count": null,
   "metadata": {},
   "outputs": [],
   "source": [
    "image, mask = trainset[30] # get some sample\n",
    "visualize(\n",
    "    image=image.numpy().transpose(1, 2, 0),\n",
    "    stas_mask=mask.squeeze(),\n",
    ")"
   ]
  }
 ],
 "metadata": {
  "interpreter": {
   "hash": "d4d1e4263499bec80672ea0156c357c1ee493ec2b1c70f0acce89fc37c4a6abe"
  },
  "kernelspec": {
   "display_name": "Python 3 (ipykernel)",
   "language": "python",
   "name": "python3"
  },
  "language_info": {
   "codemirror_mode": {
    "name": "ipython",
    "version": 3
   },
   "file_extension": ".py",
   "mimetype": "text/x-python",
   "name": "python",
   "nbconvert_exporter": "python",
   "pygments_lexer": "ipython3",
   "version": "3.8.12"
  }
 },
 "nbformat": 4,
 "nbformat_minor": 2
}
